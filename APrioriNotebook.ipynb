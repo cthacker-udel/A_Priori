{
 "cells": [
  {
   "cell_type": "markdown",
   "metadata": {},
   "source": [
    "- Necessary Imports\n",
    "- Declaring configuration type\n",
    "- Declaring constants for configuration keys (used in setting non-method accessible attributes)"
   ]
  },
  {
   "cell_type": "code",
   "execution_count": 19,
   "metadata": {},
   "outputs": [],
   "source": [
    "from pyspark import SparkContext, SparkConf\n",
    "import json\n",
    "from dataclasses import dataclass\n",
    "from typing import Optional, Dict, Any\n",
    "\n",
    "# Fields for https://spark.apache.org/docs/latest/api/python/reference/api/pyspark.SparkConf.html#pyspark.SparkConf\n",
    "@dataclass\n",
    "class Configuration:\n",
    "    appName: str\n",
    "    bindAddress: str\n",
    "    bindPort: str\n",
    "    masterUrl: str\n",
    "\n",
    "\n",
    "CONFIG_BIND_ADDRESS_KEY = \"spark.driver.bindAddress\"\n",
    "CONFIG_BIND_PORT_KEY = \"spark.ui.port\""
   ]
  },
  {
   "cell_type": "markdown",
   "metadata": {},
   "source": [
    "Parsing the spark configuration values from the json file"
   ]
  },
  {
   "cell_type": "code",
   "execution_count": 20,
   "metadata": {},
   "outputs": [
    {
     "name": "stdout",
     "output_type": "stream",
     "text": [
      "{'appName': 'APriori Example', 'masterUrl': 'local', 'bindAddress': 'localhost', 'bindPort': '4050'}\n"
     ]
    }
   ],
   "source": [
    "configuration_values: Optional[Dict[str, Any]] = None\n",
    "\n",
    "with open(\"configuration.json\", \"r\") as configuration_file:\n",
    "    configuration_values = json.loads(configuration_file.read())\n",
    "\n",
    "print(\"FAILED TO LOAD\" if configuration_values == None else configuration_values)"
   ]
  },
  {
   "cell_type": "markdown",
   "metadata": {},
   "source": [
    "Creating the spark configuration from the parsed json configuration"
   ]
  },
  {
   "cell_type": "code",
   "execution_count": 21,
   "metadata": {},
   "outputs": [
    {
     "data": {
      "text/plain": [
       "<pyspark.conf.SparkConf at 0x2d5295987c0>"
      ]
     },
     "execution_count": 21,
     "metadata": {},
     "output_type": "execute_result"
    }
   ],
   "source": [
    "configuration = SparkConf()\n",
    "\n",
    "spark_config: Optional[Configuration] = Configuration(**configuration_values)\n",
    "\n",
    "if spark_config == None:\n",
    "    raise ValueError(\"Must supply configuration, or keep defaults\")\n",
    "\n",
    "configuration.setAppName(spark_config.appName)\n",
    "configuration.setMaster(spark_config.masterUrl)\n",
    "configuration.set(CONFIG_BIND_ADDRESS_KEY, spark_config.bindAddress)\n",
    "configuration.set(CONFIG_BIND_PORT_KEY, spark_config.bindPort)"
   ]
  },
  {
   "cell_type": "markdown",
   "metadata": {},
   "source": [
    "Instantiating & Creating the SparkContext"
   ]
  },
  {
   "cell_type": "code",
   "execution_count": 26,
   "metadata": {},
   "outputs": [],
   "source": [
    "spark_session: Optional[SparkContext] = None\n",
    "\n",
    "if spark_session is not None:\n",
    "    spark_session.stop()\n",
    "\n",
    "spark_session = SparkContext.getOrCreate(conf=configuration)"
   ]
  }
 ],
 "metadata": {
  "kernelspec": {
   "display_name": "Python 3",
   "language": "python",
   "name": "python3"
  },
  "language_info": {
   "codemirror_mode": {
    "name": "ipython",
    "version": 3
   },
   "file_extension": ".py",
   "mimetype": "text/x-python",
   "name": "python",
   "nbconvert_exporter": "python",
   "pygments_lexer": "ipython3",
   "version": "3.13.1"
  }
 },
 "nbformat": 4,
 "nbformat_minor": 2
}
